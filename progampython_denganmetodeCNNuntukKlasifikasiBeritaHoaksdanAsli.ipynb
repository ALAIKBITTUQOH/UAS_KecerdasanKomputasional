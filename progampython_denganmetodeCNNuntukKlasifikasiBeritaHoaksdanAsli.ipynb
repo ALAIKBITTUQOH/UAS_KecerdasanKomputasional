{
  "nbformat": 4,
  "nbformat_minor": 0,
  "metadata": {
    "colab": {
      "provenance": [],
      "gpuType": "T4",
      "mount_file_id": "1TzSZ8M0Xv7iOeC75QB7BhOTsKFSr-Pjq",
      "authorship_tag": "ABX9TyPXhh/xp1QkZMpxJrVcNjcW",
      "include_colab_link": true
    },
    "kernelspec": {
      "name": "python3",
      "display_name": "Python 3"
    },
    "language_info": {
      "name": "python"
    },
    "accelerator": "GPU"
  },
  "cells": [
    {
      "cell_type": "markdown",
      "metadata": {
        "id": "view-in-github",
        "colab_type": "text"
      },
      "source": [
        "<a href=\"https://colab.research.google.com/github/ALAIKBITTUQOH/UAS_KecerdasanKomputasional/blob/main/progampython_denganmetodeCNNuntukKlasifikasiBeritaHoaksdanAsli.ipynb\" target=\"_parent\"><img src=\"https://colab.research.google.com/assets/colab-badge.svg\" alt=\"Open In Colab\"/></a>"
      ]
    },
    {
      "cell_type": "code",
      "source": [
        "!pip install nltk wordcloud"
      ],
      "metadata": {
        "colab": {
          "base_uri": "https://localhost:8080/"
        },
        "id": "-asWqdqv6AEm",
        "outputId": "d7f627a7-e46e-46e2-982e-d42cf4c1b70c"
      },
      "execution_count": null,
      "outputs": [
        {
          "output_type": "stream",
          "name": "stdout",
          "text": [
            "Requirement already satisfied: nltk in /usr/local/lib/python3.11/dist-packages (3.9.1)\n",
            "Requirement already satisfied: wordcloud in /usr/local/lib/python3.11/dist-packages (1.9.4)\n",
            "Requirement already satisfied: click in /usr/local/lib/python3.11/dist-packages (from nltk) (8.2.1)\n",
            "Requirement already satisfied: joblib in /usr/local/lib/python3.11/dist-packages (from nltk) (1.5.1)\n",
            "Requirement already satisfied: regex>=2021.8.3 in /usr/local/lib/python3.11/dist-packages (from nltk) (2024.11.6)\n",
            "Requirement already satisfied: tqdm in /usr/local/lib/python3.11/dist-packages (from nltk) (4.67.1)\n",
            "Requirement already satisfied: numpy>=1.6.1 in /usr/local/lib/python3.11/dist-packages (from wordcloud) (2.0.2)\n",
            "Requirement already satisfied: pillow in /usr/local/lib/python3.11/dist-packages (from wordcloud) (11.2.1)\n",
            "Requirement already satisfied: matplotlib in /usr/local/lib/python3.11/dist-packages (from wordcloud) (3.10.0)\n",
            "Requirement already satisfied: contourpy>=1.0.1 in /usr/local/lib/python3.11/dist-packages (from matplotlib->wordcloud) (1.3.2)\n",
            "Requirement already satisfied: cycler>=0.10 in /usr/local/lib/python3.11/dist-packages (from matplotlib->wordcloud) (0.12.1)\n",
            "Requirement already satisfied: fonttools>=4.22.0 in /usr/local/lib/python3.11/dist-packages (from matplotlib->wordcloud) (4.58.4)\n",
            "Requirement already satisfied: kiwisolver>=1.3.1 in /usr/local/lib/python3.11/dist-packages (from matplotlib->wordcloud) (1.4.8)\n",
            "Requirement already satisfied: packaging>=20.0 in /usr/local/lib/python3.11/dist-packages (from matplotlib->wordcloud) (24.2)\n",
            "Requirement already satisfied: pyparsing>=2.3.1 in /usr/local/lib/python3.11/dist-packages (from matplotlib->wordcloud) (3.2.3)\n",
            "Requirement already satisfied: python-dateutil>=2.7 in /usr/local/lib/python3.11/dist-packages (from matplotlib->wordcloud) (2.9.0.post0)\n",
            "Requirement already satisfied: six>=1.5 in /usr/local/lib/python3.11/dist-packages (from python-dateutil>=2.7->matplotlib->wordcloud) (1.17.0)\n"
          ]
        }
      ]
    },
    {
      "cell_type": "code",
      "source": [
        "!pip install nltk"
      ],
      "metadata": {
        "colab": {
          "base_uri": "https://localhost:8080/"
        },
        "id": "_e7MOI_dFjEK",
        "outputId": "2b0182f5-c4f2-4998-873b-aa082996f2af"
      },
      "execution_count": null,
      "outputs": [
        {
          "output_type": "stream",
          "name": "stdout",
          "text": [
            "Requirement already satisfied: nltk in /usr/local/lib/python3.11/dist-packages (3.9.1)\n",
            "Requirement already satisfied: click in /usr/local/lib/python3.11/dist-packages (from nltk) (8.2.1)\n",
            "Requirement already satisfied: joblib in /usr/local/lib/python3.11/dist-packages (from nltk) (1.5.1)\n",
            "Requirement already satisfied: regex>=2021.8.3 in /usr/local/lib/python3.11/dist-packages (from nltk) (2024.11.6)\n",
            "Requirement already satisfied: tqdm in /usr/local/lib/python3.11/dist-packages (from nltk) (4.67.1)\n"
          ]
        }
      ]
    },
    {
      "cell_type": "code",
      "source": [
        "pip install numpy pandas scikit-learn tensorflow matplotlib seaborn"
      ],
      "metadata": {
        "colab": {
          "base_uri": "https://localhost:8080/"
        },
        "id": "kbm1h1_iFpAa",
        "outputId": "9779ae35-8f04-4ea7-b7b6-4c50243456d4"
      },
      "execution_count": null,
      "outputs": [
        {
          "output_type": "stream",
          "name": "stdout",
          "text": [
            "Requirement already satisfied: numpy in /usr/local/lib/python3.11/dist-packages (2.0.2)\n",
            "Requirement already satisfied: pandas in /usr/local/lib/python3.11/dist-packages (2.2.2)\n",
            "Requirement already satisfied: scikit-learn in /usr/local/lib/python3.11/dist-packages (1.6.1)\n",
            "Requirement already satisfied: tensorflow in /usr/local/lib/python3.11/dist-packages (2.18.0)\n",
            "Requirement already satisfied: matplotlib in /usr/local/lib/python3.11/dist-packages (3.10.0)\n",
            "Requirement already satisfied: seaborn in /usr/local/lib/python3.11/dist-packages (0.13.2)\n",
            "Requirement already satisfied: python-dateutil>=2.8.2 in /usr/local/lib/python3.11/dist-packages (from pandas) (2.9.0.post0)\n",
            "Requirement already satisfied: pytz>=2020.1 in /usr/local/lib/python3.11/dist-packages (from pandas) (2025.2)\n",
            "Requirement already satisfied: tzdata>=2022.7 in /usr/local/lib/python3.11/dist-packages (from pandas) (2025.2)\n",
            "Requirement already satisfied: scipy>=1.6.0 in /usr/local/lib/python3.11/dist-packages (from scikit-learn) (1.15.3)\n",
            "Requirement already satisfied: joblib>=1.2.0 in /usr/local/lib/python3.11/dist-packages (from scikit-learn) (1.5.1)\n",
            "Requirement already satisfied: threadpoolctl>=3.1.0 in /usr/local/lib/python3.11/dist-packages (from scikit-learn) (3.6.0)\n",
            "Requirement already satisfied: absl-py>=1.0.0 in /usr/local/lib/python3.11/dist-packages (from tensorflow) (1.4.0)\n",
            "Requirement already satisfied: astunparse>=1.6.0 in /usr/local/lib/python3.11/dist-packages (from tensorflow) (1.6.3)\n",
            "Requirement already satisfied: flatbuffers>=24.3.25 in /usr/local/lib/python3.11/dist-packages (from tensorflow) (25.2.10)\n",
            "Requirement already satisfied: gast!=0.5.0,!=0.5.1,!=0.5.2,>=0.2.1 in /usr/local/lib/python3.11/dist-packages (from tensorflow) (0.6.0)\n",
            "Requirement already satisfied: google-pasta>=0.1.1 in /usr/local/lib/python3.11/dist-packages (from tensorflow) (0.2.0)\n",
            "Requirement already satisfied: libclang>=13.0.0 in /usr/local/lib/python3.11/dist-packages (from tensorflow) (18.1.1)\n",
            "Requirement already satisfied: opt-einsum>=2.3.2 in /usr/local/lib/python3.11/dist-packages (from tensorflow) (3.4.0)\n",
            "Requirement already satisfied: packaging in /usr/local/lib/python3.11/dist-packages (from tensorflow) (24.2)\n",
            "Requirement already satisfied: protobuf!=4.21.0,!=4.21.1,!=4.21.2,!=4.21.3,!=4.21.4,!=4.21.5,<6.0.0dev,>=3.20.3 in /usr/local/lib/python3.11/dist-packages (from tensorflow) (5.29.5)\n",
            "Requirement already satisfied: requests<3,>=2.21.0 in /usr/local/lib/python3.11/dist-packages (from tensorflow) (2.32.3)\n",
            "Requirement already satisfied: setuptools in /usr/local/lib/python3.11/dist-packages (from tensorflow) (75.2.0)\n",
            "Requirement already satisfied: six>=1.12.0 in /usr/local/lib/python3.11/dist-packages (from tensorflow) (1.17.0)\n",
            "Requirement already satisfied: termcolor>=1.1.0 in /usr/local/lib/python3.11/dist-packages (from tensorflow) (3.1.0)\n",
            "Requirement already satisfied: typing-extensions>=3.6.6 in /usr/local/lib/python3.11/dist-packages (from tensorflow) (4.14.0)\n",
            "Requirement already satisfied: wrapt>=1.11.0 in /usr/local/lib/python3.11/dist-packages (from tensorflow) (1.17.2)\n",
            "Requirement already satisfied: grpcio<2.0,>=1.24.3 in /usr/local/lib/python3.11/dist-packages (from tensorflow) (1.73.1)\n",
            "Requirement already satisfied: tensorboard<2.19,>=2.18 in /usr/local/lib/python3.11/dist-packages (from tensorflow) (2.18.0)\n",
            "Requirement already satisfied: keras>=3.5.0 in /usr/local/lib/python3.11/dist-packages (from tensorflow) (3.8.0)\n",
            "Requirement already satisfied: h5py>=3.11.0 in /usr/local/lib/python3.11/dist-packages (from tensorflow) (3.14.0)\n",
            "Requirement already satisfied: ml-dtypes<0.5.0,>=0.4.0 in /usr/local/lib/python3.11/dist-packages (from tensorflow) (0.4.1)\n",
            "Requirement already satisfied: tensorflow-io-gcs-filesystem>=0.23.1 in /usr/local/lib/python3.11/dist-packages (from tensorflow) (0.37.1)\n",
            "Requirement already satisfied: contourpy>=1.0.1 in /usr/local/lib/python3.11/dist-packages (from matplotlib) (1.3.2)\n",
            "Requirement already satisfied: cycler>=0.10 in /usr/local/lib/python3.11/dist-packages (from matplotlib) (0.12.1)\n",
            "Requirement already satisfied: fonttools>=4.22.0 in /usr/local/lib/python3.11/dist-packages (from matplotlib) (4.58.4)\n",
            "Requirement already satisfied: kiwisolver>=1.3.1 in /usr/local/lib/python3.11/dist-packages (from matplotlib) (1.4.8)\n",
            "Requirement already satisfied: pillow>=8 in /usr/local/lib/python3.11/dist-packages (from matplotlib) (11.2.1)\n",
            "Requirement already satisfied: pyparsing>=2.3.1 in /usr/local/lib/python3.11/dist-packages (from matplotlib) (3.2.3)\n",
            "Requirement already satisfied: wheel<1.0,>=0.23.0 in /usr/local/lib/python3.11/dist-packages (from astunparse>=1.6.0->tensorflow) (0.45.1)\n",
            "Requirement already satisfied: rich in /usr/local/lib/python3.11/dist-packages (from keras>=3.5.0->tensorflow) (13.9.4)\n",
            "Requirement already satisfied: namex in /usr/local/lib/python3.11/dist-packages (from keras>=3.5.0->tensorflow) (0.1.0)\n",
            "Requirement already satisfied: optree in /usr/local/lib/python3.11/dist-packages (from keras>=3.5.0->tensorflow) (0.16.0)\n",
            "Requirement already satisfied: charset-normalizer<4,>=2 in /usr/local/lib/python3.11/dist-packages (from requests<3,>=2.21.0->tensorflow) (3.4.2)\n",
            "Requirement already satisfied: idna<4,>=2.5 in /usr/local/lib/python3.11/dist-packages (from requests<3,>=2.21.0->tensorflow) (3.10)\n",
            "Requirement already satisfied: urllib3<3,>=1.21.1 in /usr/local/lib/python3.11/dist-packages (from requests<3,>=2.21.0->tensorflow) (2.4.0)\n",
            "Requirement already satisfied: certifi>=2017.4.17 in /usr/local/lib/python3.11/dist-packages (from requests<3,>=2.21.0->tensorflow) (2025.6.15)\n",
            "Requirement already satisfied: markdown>=2.6.8 in /usr/local/lib/python3.11/dist-packages (from tensorboard<2.19,>=2.18->tensorflow) (3.8.2)\n",
            "Requirement already satisfied: tensorboard-data-server<0.8.0,>=0.7.0 in /usr/local/lib/python3.11/dist-packages (from tensorboard<2.19,>=2.18->tensorflow) (0.7.2)\n",
            "Requirement already satisfied: werkzeug>=1.0.1 in /usr/local/lib/python3.11/dist-packages (from tensorboard<2.19,>=2.18->tensorflow) (3.1.3)\n",
            "Requirement already satisfied: MarkupSafe>=2.1.1 in /usr/local/lib/python3.11/dist-packages (from werkzeug>=1.0.1->tensorboard<2.19,>=2.18->tensorflow) (3.0.2)\n",
            "Requirement already satisfied: markdown-it-py>=2.2.0 in /usr/local/lib/python3.11/dist-packages (from rich->keras>=3.5.0->tensorflow) (3.0.0)\n",
            "Requirement already satisfied: pygments<3.0.0,>=2.13.0 in /usr/local/lib/python3.11/dist-packages (from rich->keras>=3.5.0->tensorflow) (2.19.2)\n",
            "Requirement already satisfied: mdurl~=0.1 in /usr/local/lib/python3.11/dist-packages (from markdown-it-py>=2.2.0->rich->keras>=3.5.0->tensorflow) (0.1.2)\n"
          ]
        }
      ]
    },
    {
      "cell_type": "code",
      "source": [
        "import numpy as np\n",
        "import pandas as pd\n",
        "from sklearn.model_selection import train_test_split\n",
        "from sklearn.preprocessing import LabelEncoder\n",
        "from tensorflow.keras.preprocessing.text import Tokenizer\n",
        "from tensorflow.keras.preprocessing.sequence import pad_sequences\n",
        "from tensorflow.keras.models import Sequential\n",
        "from tensorflow.keras.layers import Embedding, Conv1D, GlobalMaxPooling1D, Dense, Dropout\n",
        "from tensorflow.keras.callbacks import EarlyStopping, ModelCheckpoint\n",
        "import matplotlib.pyplot as plt\n",
        "import seaborn as sns\n",
        "from sklearn.metrics import classification_report, confusion_matrix\n",
        "\n",
        "# Mengatur pandas untuk menampilkan teks penuh\n",
        "pd.set_option('display.max_colwidth', None)\n",
        "pd.set_option('display.max_rows', None)\n",
        "\n",
        "# 1. Fungsi untuk memuat dan memproses data\n",
        "def load_and_preprocess_data(file_path, text_column, label_column, source_column, max_words=10000, max_len=100):\n",
        "    # Memuat dataset\n",
        "    df = pd.read_csv(file_path)\n",
        "\n",
        "    # Validasi kolom\n",
        "    required_columns = [text_column, label_column, source_column]\n",
        "    if not all(col in df.columns for col in required_columns):\n",
        "        raise ValueError(f\"Dataset must contain '{text_column}', '{label_column}', and '{source_column}' columns\")\n",
        "\n",
        "    # Validasi dan bersihkan data\n",
        "    if df[text_column].isnull().any() or df[label_column].isnull().any() or df[source_column].isnull().any():\n",
        "        raise ValueError(\"Dataset contains null values in 'text', 'label', or 'source' columns\")\n",
        "\n",
        "    # Cetak label unik untuk debugging\n",
        "    print(\"Unique labels in dataset:\", df[label_column].unique())\n",
        "\n",
        "    # Konversi label numerik ke string (0 = Asli, 1 = Hoaks)\n",
        "    label_mapping = {0: 'Asli', 1: 'Hoaks'}\n",
        "    df[label_column] = df[label_column].astype(int).map(label_mapping)\n",
        "\n",
        "    # Validasi label setelah mapping\n",
        "    valid_labels = {'Asli', 'Hoaks'}\n",
        "    if not set(df[label_column].unique()).issubset(valid_labels):\n",
        "        raise ValueError(f\"Invalid labels found in dataset: {df[label_column].unique()}. Expected 'Asli' or 'Hoaks'\")\n",
        "\n",
        "    # Cetak label unik setelah mapping\n",
        "    print(\"Unique labels in dataset after mapping:\", df[label_column].unique())\n",
        "\n",
        "    # Mengambil teks, label, dan source\n",
        "    texts = df[text_column].values\n",
        "    labels = df[label_column].values\n",
        "    sources = df[source_column].values\n",
        "\n",
        "    # Encode label untuk model (Asli: 0, Hoaks: 1)\n",
        "    label_encoder = LabelEncoder()\n",
        "    labels_encoded = label_encoder.fit_transform(labels)\n",
        "\n",
        "    # Tokenisasi teks\n",
        "    tokenizer = Tokenizer(num_words=max_words)\n",
        "    tokenizer.fit_on_texts(texts)\n",
        "    sequences = tokenizer.texts_to_sequences(texts)\n",
        "\n",
        "    # Padding sequences agar panjangnya seragam\n",
        "    X = pad_sequences(sequences, maxlen=max_len)\n",
        "\n",
        "    # Membagi data menjadi train, validation, dan test\n",
        "    X_train, X_temp, y_train, y_temp, texts_train, texts_temp, sources_train, sources_temp = train_test_split(\n",
        "        X, labels_encoded, texts, sources, test_size=0.3, random_state=42)\n",
        "    X_val, X_test, y_val, y_test, texts_val, texts_test, sources_val, sources_test = train_test_split(\n",
        "        X_temp, y_temp, texts_temp, sources_temp, test_size=0.5, random_state=42)\n",
        "\n",
        "    return X_train, X_val, X_test, y_train, y_val, y_test, texts_test, sources_test, tokenizer, label_encoder\n",
        "\n",
        "# 2. Fungsi untuk membangun model CNN\n",
        "def build_cnn_model(vocab_size, embedding_dim=100):\n",
        "    model = Sequential([\n",
        "        # Lapisan Embedding\n",
        "        Embedding(vocab_size, embedding_dim),\n",
        "        # Lapisan Konvolusi\n",
        "        Conv1D(filters=128, kernel_size=5, activation='relu'),\n",
        "        GlobalMaxPooling1D(),\n",
        "        # Lapisan Dense\n",
        "        Dense(64, activation='relu'),\n",
        "        Dropout(0.5),\n",
        "        Dense(1, activation='sigmoid')  # Output biner\n",
        "    ])\n",
        "\n",
        "    # Kompilasi model\n",
        "    model.compile(optimizer='adam',\n",
        "                 loss='binary_crossentropy',\n",
        "                 metrics=['accuracy'])\n",
        "\n",
        "    return model\n",
        "\n",
        "# 3. Fungsi untuk melatih model\n",
        "def train_model(model, X_train, y_train, X_val, y_val, epochs=10, batch_size=32):\n",
        "    # Callback untuk early stopping dan menyimpan model terbaik\n",
        "    early_stopping = EarlyStopping(monitor='val_loss', patience=3, restore_best_weights=True)\n",
        "    checkpoint = ModelCheckpoint('best_model.keras', monitor='val_accuracy', save_best_only=True)\n",
        "\n",
        "    # Melatih model\n",
        "    history = model.fit(X_train, y_train,\n",
        "                       epochs=epochs,\n",
        "                       batch_size=batch_size,\n",
        "                       validation_data=(X_val, y_val),\n",
        "                       callbacks=[early_stopping, checkpoint])\n",
        "\n",
        "    return history\n",
        "\n",
        "# 4. Fungsi untuk mengevaluasi model dan menampilkan prediksi rapi\n",
        "def evaluate_model(model, X_test, y_test, texts_test, sources_test, label_encoder):\n",
        "    # Evaluasi model pada data uji\n",
        "    test_loss, test_accuracy = model.evaluate(X_test, y_test)\n",
        "    print(f\"\\nTest Accuracy: {test_accuracy:.4f}\")\n",
        "\n",
        "    # Prediksi\n",
        "    y_pred = (model.predict(X_test) > 0.5).astype(\"int32\").flatten()\n",
        "\n",
        "    # Classification report\n",
        "    print(\"\\nClassification Report:\")\n",
        "    print(classification_report(y_test, y_pred, target_names=['Asli', 'Hoaks']))\n",
        "\n",
        "    # Confusion Matrix\n",
        "    cm = confusion_matrix(y_test, y_pred)\n",
        "    plt.figure(figsize=(6, 4))\n",
        "    sns.heatmap(cm, annot=True, fmt='d', cmap='Blues', xticklabels=['Asli', 'Hoaks'], yticklabels=['Asli', 'Hoaks'])\n",
        "    plt.xlabel('Predicted')\n",
        "    plt.ylabel('Actual')\n",
        "    plt.title('Confusion Matrix')\n",
        "    plt.show()\n",
        "\n",
        "    # Mendapatkan label asli\n",
        "    actual_labels = label_encoder.inverse_transform(y_test)\n",
        "    predicted_labels = label_encoder.inverse_transform(y_pred)\n",
        "\n",
        "    # Debug: Cetak nilai unik label\n",
        "    print(\"\\nUnique Actual Labels:\", np.unique(actual_labels))\n",
        "    print(\"Unique Predicted Labels:\", np.unique(predicted_labels))\n",
        "\n",
        "    # Membuat DataFrame untuk semua prediksi\n",
        "    prediction_status = ['Correct' if actual == pred else 'Incorrect' for actual, pred in zip(actual_labels, predicted_labels)]\n",
        "    results = pd.DataFrame({\n",
        "        'Index': range(len(texts_test)),\n",
        "        'Text': texts_test,\n",
        "        'Source': sources_test,\n",
        "        'Actual Label': actual_labels,\n",
        "        'Predicted Label': predicted_labels,\n",
        "        'Prediction Status': prediction_status\n",
        "    })\n",
        "\n",
        "    # Menyimpan hasil prediksi ke CSV\n",
        "    results.to_csv('predictions.csv', index=False)\n",
        "    print(\"\\nPredictions saved to 'predictions.csv'\")\n",
        "\n",
        "    # Menampilkan semua prediksi dengan format rapi\n",
        "    print(\"\\n=== Semua Prediksi ===\")\n",
        "    print(\"+{:-^5}+{:-^60}+{:-^30}+{:-^12}+{:-^15}+{:-^18}+\".format('', '', '', '', '', ''))\n",
        "    print(\"| {:^5} | {:^58} | {:^28} | {:^10} | {:^13} | {:^16} |\".format(\n",
        "        'Index', 'Text', 'Source', 'Actual', 'Predicted', 'Status'))\n",
        "    print(\"+{:-^5}+{:-^60}+{:-^30}+{:-^12}+{:-^15}+{:-^18}+\".format('', '', '', '', '', ''))\n",
        "    for _, row in results.iterrows():\n",
        "        print(\"| {:^5} | {:^58} | {:^28} | {:^10} | {:^13} | {:^16} |\".format(\n",
        "            row['Index'], row['Text'][:58], row['Source'][:28], row['Actual Label'], row['Predicted Label'], row['Prediction Status']))\n",
        "    print(\"+{:-^5}+{:-^60}+{:-^30}+{:-^12}+{:-^15}+{:-^18}+\".format('', '', '', '', '', ''))\n",
        "\n",
        "    # Memisahkan berita Asli dan Hoaks berdasarkan prediksi\n",
        "    real_predictions = results[results['Predicted Label'] == 'Asli']\n",
        "    hoax_predictions = results[results['Predicted Label'] == 'Hoaks']\n",
        "\n",
        "    # Menampilkan berita Asli dengan format rapi\n",
        "    print(\"\\n=== Berita yang Diklasifikasikan sebagai Asli ===\")\n",
        "    print(\"+{:-^5}+{:-^60}+{:-^30}+{:-^12}+{:-^15}+{:-^18}+\".format('', '', '', '', '', ''))\n",
        "    print(\"| {:^5} | {:^58} | {:^28} | {:^10} | {:^13} | {:^16} |\".format(\n",
        "        'Index', 'Text', 'Source', 'Actual', 'Predicted', 'Status'))\n",
        "    print(\"+{:-^5}+{:-^60}+{:-^30}+{:-^12}+{:-^15}+{:-^18}+\".format('', '', '', '', '', ''))\n",
        "    for _, row in real_predictions.iterrows():\n",
        "        print(\"| {:^5} | {:^58} | {:^28} | {:^10} | {:^13} | {:^16} |\".format(\n",
        "            row['Index'], row['Text'][:58], row['Source'][:28], row['Actual Label'], row['Predicted Label'], row['Prediction Status']))\n",
        "    print(\"+{:-^5}+{:-^60}+{:-^30}+{:-^12}+{:-^15}+{:-^18}+\".format('', '', '', '', '', ''))\n",
        "\n",
        "    # Menampilkan berita Hoaks dengan format rapi\n",
        "    print(\"\\n=== Berita yang Diklasifikasikan sebagai Hoaks ===\")\n",
        "    print(\"+{:-^5}+{:-^60}+{:-^30}+{:-^12}+{:-^15}+{:-^18}+\".format('', '', '', '', '', ''))\n",
        "    print(\"| {:^5} | {:^58} | {:^28} | {:^10} | {:^13} | {:^16} |\".format(\n",
        "        'Index', 'Text', 'Source', 'Actual', 'Predicted', 'Status'))\n",
        "    print(\"+{:-^5}+{:-^60}+{:-^30}+{:-^12}+{:-^15}+{:-^18}+\".format('', '', '', '', '', ''))\n",
        "    for _, row in hoax_predictions.iterrows():\n",
        "        print(\"| {:^5} | {:^58} | {:^28} | {:^10} | {:^13} | {:^16} |\".format(\n",
        "            row['Index'], row['Text'][:58], row['Source'][:28], row['Actual Label'], row['Predicted Label'], row['Prediction Status']))\n",
        "    print(\"+{:-^5}+{:-^60}+{:-^30}+{:-^12}+{:-^15}+{:-^18}+\".format('', '', '', '', '', ''))\n",
        "\n",
        "# 5. Fungsi untuk visualisasi hasil pelatihan\n",
        "def plot_training_history(history):\n",
        "    # Plot akurasi\n",
        "    plt.figure(figsize=(12, 4))\n",
        "\n",
        "    plt.subplot(1, 2, 1)\n",
        "    plt.plot(history.history['accuracy'], label='Training Accuracy')\n",
        "    plt.plot(history.history['val_accuracy'], label='Validation Accuracy')\n",
        "    plt.title('Model Accuracy')\n",
        "    plt.xlabel('Epoch')\n",
        "    plt.ylabel('Accuracy')\n",
        "    plt.legend()\n",
        "\n",
        "    # Plot loss\n",
        "    plt.subplot(1, 2, 2)\n",
        "    plt.plot(history.history['loss'], label='Training Loss')\n",
        "    plt.plot(history.history['val_loss'], label='Validation Loss')\n",
        "    plt.title('Model Loss')\n",
        "    plt.xlabel('Epoch')\n",
        "    plt.ylabel('Loss')\n",
        "    plt.legend()\n",
        "\n",
        "    plt.tight_layout()\n",
        "    plt.show()\n",
        "\n",
        "# 6. Fungsi utama\n",
        "def main():\n",
        "    # Parameter\n",
        "    file_path = '/content/drive/MyDrive/Colab Notebooks/news_dataset_100.csv'\n",
        "    text_column = 'text'\n",
        "    label_column = 'label'\n",
        "    source_column = 'source'\n",
        "    max_words = 10000\n",
        "    max_len = 100\n",
        "    embedding_dim = 100\n",
        "    epochs = 10\n",
        "    batch_size = 32\n",
        "\n",
        "    # Memuat dan memproses data\n",
        "    X_train, X_val, X_test, y_train, y_val, y_test, texts_test, sources_test, tokenizer, label_encoder = load_and_preprocess_data(\n",
        "        file_path, text_column, label_column, source_column, max_words, max_len)\n",
        "\n",
        "    # Membangun model\n",
        "    model = build_cnn_model(max_words, embedding_dim)\n",
        "    model.summary()\n",
        "\n",
        "    # Melatih model\n",
        "    history = train_model(model, X_train, y_train, X_val, y_val, epochs, batch_size)\n",
        "\n",
        "    # Visualisasi hasil pelatihan\n",
        "    plot_training_history(history)\n",
        "\n",
        "    # Evaluasi model\n",
        "    evaluate_model(model, X_test, y_test, texts_test, sources_test, label_encoder)\n",
        "\n",
        "if __name__ == \"__main__\":\n",
        "    main()"
      ],
      "metadata": {
        "colab": {
          "base_uri": "https://localhost:8080/",
          "height": 1000
        },
        "id": "Dk4sZ097IlIq",
        "outputId": "0d61aa63-cf18-4a69-eab7-89c056208587"
      },
      "execution_count": 25,
      "outputs": [
        {
          "output_type": "stream",
          "name": "stdout",
          "text": [
            "Unique labels in dataset: [1 0]\n",
            "Unique labels in dataset after mapping: ['Hoaks' 'Asli']\n"
          ]
        },
        {
          "output_type": "display_data",
          "data": {
            "text/plain": [
              "\u001b[1mModel: \"sequential_25\"\u001b[0m\n"
            ],
            "text/html": [
              "<pre style=\"white-space:pre;overflow-x:auto;line-height:normal;font-family:Menlo,'DejaVu Sans Mono',consolas,'Courier New',monospace\"><span style=\"font-weight: bold\">Model: \"sequential_25\"</span>\n",
              "</pre>\n"
            ]
          },
          "metadata": {}
        },
        {
          "output_type": "display_data",
          "data": {
            "text/plain": [
              "┏━━━━━━━━━━━━━━━━━━━━━━━━━━━━━━━━━┳━━━━━━━━━━━━━━━━━━━━━━━━┳━━━━━━━━━━━━━━━┓\n",
              "┃\u001b[1m \u001b[0m\u001b[1mLayer (type)                   \u001b[0m\u001b[1m \u001b[0m┃\u001b[1m \u001b[0m\u001b[1mOutput Shape          \u001b[0m\u001b[1m \u001b[0m┃\u001b[1m \u001b[0m\u001b[1m      Param #\u001b[0m\u001b[1m \u001b[0m┃\n",
              "┡━━━━━━━━━━━━━━━━━━━━━━━━━━━━━━━━━╇━━━━━━━━━━━━━━━━━━━━━━━━╇━━━━━━━━━━━━━━━┩\n",
              "│ embedding_25 (\u001b[38;5;33mEmbedding\u001b[0m)        │ ?                      │   \u001b[38;5;34m0\u001b[0m (unbuilt) │\n",
              "├─────────────────────────────────┼────────────────────────┼───────────────┤\n",
              "│ conv1d_25 (\u001b[38;5;33mConv1D\u001b[0m)              │ ?                      │   \u001b[38;5;34m0\u001b[0m (unbuilt) │\n",
              "├─────────────────────────────────┼────────────────────────┼───────────────┤\n",
              "│ global_max_pooling1d_25         │ ?                      │             \u001b[38;5;34m0\u001b[0m │\n",
              "│ (\u001b[38;5;33mGlobalMaxPooling1D\u001b[0m)            │                        │               │\n",
              "├─────────────────────────────────┼────────────────────────┼───────────────┤\n",
              "│ dense_50 (\u001b[38;5;33mDense\u001b[0m)                │ ?                      │   \u001b[38;5;34m0\u001b[0m (unbuilt) │\n",
              "├─────────────────────────────────┼────────────────────────┼───────────────┤\n",
              "│ dropout_25 (\u001b[38;5;33mDropout\u001b[0m)            │ ?                      │             \u001b[38;5;34m0\u001b[0m │\n",
              "├─────────────────────────────────┼────────────────────────┼───────────────┤\n",
              "│ dense_51 (\u001b[38;5;33mDense\u001b[0m)                │ ?                      │   \u001b[38;5;34m0\u001b[0m (unbuilt) │\n",
              "└─────────────────────────────────┴────────────────────────┴───────────────┘\n"
            ],
            "text/html": [
              "<pre style=\"white-space:pre;overflow-x:auto;line-height:normal;font-family:Menlo,'DejaVu Sans Mono',consolas,'Courier New',monospace\">┏━━━━━━━━━━━━━━━━━━━━━━━━━━━━━━━━━┳━━━━━━━━━━━━━━━━━━━━━━━━┳━━━━━━━━━━━━━━━┓\n",
              "┃<span style=\"font-weight: bold\"> Layer (type)                    </span>┃<span style=\"font-weight: bold\"> Output Shape           </span>┃<span style=\"font-weight: bold\">       Param # </span>┃\n",
              "┡━━━━━━━━━━━━━━━━━━━━━━━━━━━━━━━━━╇━━━━━━━━━━━━━━━━━━━━━━━━╇━━━━━━━━━━━━━━━┩\n",
              "│ embedding_25 (<span style=\"color: #0087ff; text-decoration-color: #0087ff\">Embedding</span>)        │ ?                      │   <span style=\"color: #00af00; text-decoration-color: #00af00\">0</span> (unbuilt) │\n",
              "├─────────────────────────────────┼────────────────────────┼───────────────┤\n",
              "│ conv1d_25 (<span style=\"color: #0087ff; text-decoration-color: #0087ff\">Conv1D</span>)              │ ?                      │   <span style=\"color: #00af00; text-decoration-color: #00af00\">0</span> (unbuilt) │\n",
              "├─────────────────────────────────┼────────────────────────┼───────────────┤\n",
              "│ global_max_pooling1d_25         │ ?                      │             <span style=\"color: #00af00; text-decoration-color: #00af00\">0</span> │\n",
              "│ (<span style=\"color: #0087ff; text-decoration-color: #0087ff\">GlobalMaxPooling1D</span>)            │                        │               │\n",
              "├─────────────────────────────────┼────────────────────────┼───────────────┤\n",
              "│ dense_50 (<span style=\"color: #0087ff; text-decoration-color: #0087ff\">Dense</span>)                │ ?                      │   <span style=\"color: #00af00; text-decoration-color: #00af00\">0</span> (unbuilt) │\n",
              "├─────────────────────────────────┼────────────────────────┼───────────────┤\n",
              "│ dropout_25 (<span style=\"color: #0087ff; text-decoration-color: #0087ff\">Dropout</span>)            │ ?                      │             <span style=\"color: #00af00; text-decoration-color: #00af00\">0</span> │\n",
              "├─────────────────────────────────┼────────────────────────┼───────────────┤\n",
              "│ dense_51 (<span style=\"color: #0087ff; text-decoration-color: #0087ff\">Dense</span>)                │ ?                      │   <span style=\"color: #00af00; text-decoration-color: #00af00\">0</span> (unbuilt) │\n",
              "└─────────────────────────────────┴────────────────────────┴───────────────┘\n",
              "</pre>\n"
            ]
          },
          "metadata": {}
        },
        {
          "output_type": "display_data",
          "data": {
            "text/plain": [
              "\u001b[1m Total params: \u001b[0m\u001b[38;5;34m0\u001b[0m (0.00 B)\n"
            ],
            "text/html": [
              "<pre style=\"white-space:pre;overflow-x:auto;line-height:normal;font-family:Menlo,'DejaVu Sans Mono',consolas,'Courier New',monospace\"><span style=\"font-weight: bold\"> Total params: </span><span style=\"color: #00af00; text-decoration-color: #00af00\">0</span> (0.00 B)\n",
              "</pre>\n"
            ]
          },
          "metadata": {}
        },
        {
          "output_type": "display_data",
          "data": {
            "text/plain": [
              "\u001b[1m Trainable params: \u001b[0m\u001b[38;5;34m0\u001b[0m (0.00 B)\n"
            ],
            "text/html": [
              "<pre style=\"white-space:pre;overflow-x:auto;line-height:normal;font-family:Menlo,'DejaVu Sans Mono',consolas,'Courier New',monospace\"><span style=\"font-weight: bold\"> Trainable params: </span><span style=\"color: #00af00; text-decoration-color: #00af00\">0</span> (0.00 B)\n",
              "</pre>\n"
            ]
          },
          "metadata": {}
        },
        {
          "output_type": "display_data",
          "data": {
            "text/plain": [
              "\u001b[1m Non-trainable params: \u001b[0m\u001b[38;5;34m0\u001b[0m (0.00 B)\n"
            ],
            "text/html": [
              "<pre style=\"white-space:pre;overflow-x:auto;line-height:normal;font-family:Menlo,'DejaVu Sans Mono',consolas,'Courier New',monospace\"><span style=\"font-weight: bold\"> Non-trainable params: </span><span style=\"color: #00af00; text-decoration-color: #00af00\">0</span> (0.00 B)\n",
              "</pre>\n"
            ]
          },
          "metadata": {}
        },
        {
          "output_type": "stream",
          "name": "stdout",
          "text": [
            "Epoch 1/10\n",
            "\u001b[1m3/3\u001b[0m \u001b[32m━━━━━━━━━━━━━━━━━━━━\u001b[0m\u001b[37m\u001b[0m \u001b[1m4s\u001b[0m 818ms/step - accuracy: 0.5592 - loss: 0.6941 - val_accuracy: 0.8000 - val_loss: 0.6803\n",
            "Epoch 2/10\n",
            "\u001b[1m3/3\u001b[0m \u001b[32m━━━━━━━━━━━━━━━━━━━━\u001b[0m\u001b[37m\u001b[0m \u001b[1m0s\u001b[0m 32ms/step - accuracy: 0.8348 - loss: 0.6618 - val_accuracy: 0.7333 - val_loss: 0.6699\n",
            "Epoch 3/10\n",
            "\u001b[1m3/3\u001b[0m \u001b[32m━━━━━━━━━━━━━━━━━━━━\u001b[0m\u001b[37m\u001b[0m \u001b[1m0s\u001b[0m 63ms/step - accuracy: 0.9246 - loss: 0.6376 - val_accuracy: 0.9333 - val_loss: 0.6501\n",
            "Epoch 4/10\n",
            "\u001b[1m3/3\u001b[0m \u001b[32m━━━━━━━━━━━━━━━━━━━━\u001b[0m\u001b[37m\u001b[0m \u001b[1m0s\u001b[0m 62ms/step - accuracy: 0.9701 - loss: 0.5921 - val_accuracy: 1.0000 - val_loss: 0.6222\n",
            "Epoch 5/10\n",
            "\u001b[1m3/3\u001b[0m \u001b[32m━━━━━━━━━━━━━━━━━━━━\u001b[0m\u001b[37m\u001b[0m \u001b[1m0s\u001b[0m 31ms/step - accuracy: 0.9890 - loss: 0.5519 - val_accuracy: 1.0000 - val_loss: 0.5920\n",
            "Epoch 6/10\n",
            "\u001b[1m3/3\u001b[0m \u001b[32m━━━━━━━━━━━━━━━━━━━━\u001b[0m\u001b[37m\u001b[0m \u001b[1m0s\u001b[0m 30ms/step - accuracy: 1.0000 - loss: 0.5166 - val_accuracy: 1.0000 - val_loss: 0.5616\n",
            "Epoch 7/10\n",
            "\u001b[1m3/3\u001b[0m \u001b[32m━━━━━━━━━━━━━━━━━━━━\u001b[0m\u001b[37m\u001b[0m \u001b[1m0s\u001b[0m 30ms/step - accuracy: 1.0000 - loss: 0.4642 - val_accuracy: 1.0000 - val_loss: 0.5209\n",
            "Epoch 8/10\n",
            "\u001b[1m3/3\u001b[0m \u001b[32m━━━━━━━━━━━━━━━━━━━━\u001b[0m\u001b[37m\u001b[0m \u001b[1m0s\u001b[0m 30ms/step - accuracy: 1.0000 - loss: 0.4018 - val_accuracy: 1.0000 - val_loss: 0.4671\n",
            "Epoch 9/10\n",
            "\u001b[1m3/3\u001b[0m \u001b[32m━━━━━━━━━━━━━━━━━━━━\u001b[0m\u001b[37m\u001b[0m \u001b[1m0s\u001b[0m 30ms/step - accuracy: 0.9811 - loss: 0.3590 - val_accuracy: 1.0000 - val_loss: 0.4017\n",
            "Epoch 10/10\n",
            "\u001b[1m3/3\u001b[0m \u001b[32m━━━━━━━━━━━━━━━━━━━━\u001b[0m\u001b[37m\u001b[0m \u001b[1m0s\u001b[0m 32ms/step - accuracy: 1.0000 - loss: 0.2769 - val_accuracy: 1.0000 - val_loss: 0.3349\n"
          ]
        },
        {
          "output_type": "display_data",
          "data": {
            "text/plain": [
              "<Figure size 1200x400 with 2 Axes>"
            ],
            "image/png": "[encoded data removed]"
          },
          "metadata": {}
        },
        {
          "output_type": "stream",
          "name": "stdout",
          "text": [
            "\u001b[1m1/1\u001b[0m \u001b[32m━━━━━━━━━━━━━━━━━━━━\u001b[0m\u001b[37m\u001b[0m \u001b[1m0s\u001b[0m 35ms/step - accuracy: 0.9333 - loss: 0.3115\n",
            "\n",
            "Test Accuracy: 0.9333\n",
            "\u001b[1m1/1\u001b[0m \u001b[32m━━━━━━━━━━━━━━━━━━━━\u001b[0m\u001b[37m\u001b[0m \u001b[1m0s\u001b[0m 226ms/step\n",
            "\n",
            "Classification Report:\n",
            "              precision    recall  f1-score   support\n",
            "\n",
            "        Asli       0.88      1.00      0.93         7\n",
            "       Hoaks       1.00      0.88      0.93         8\n",
            "\n",
            "    accuracy                           0.93        15\n",
            "   macro avg       0.94      0.94      0.93        15\n",
            "weighted avg       0.94      0.93      0.93        15\n",
            "\n"
          ]
        },
        {
          "output_type": "display_data",
          "data": {
            "text/plain": [
              "<Figure size 600x400 with 2 Axes>"
            ],
            "image/png": "[encoded data removed]"
          },
          "metadata": {}
        },
        {
          "output_type": "stream",
          "name": "stdout",
          "text": [
            "\n",
            "Unique Actual Labels: ['Asli' 'Hoaks']\n",
            "Unique Predicted Labels: ['Asli' 'Hoaks']\n",
            "\n",
            "Predictions saved to 'predictions.csv'\n",
            "\n",
            "=== Semua Prediksi ===\n",
            "+-----+------------------------------------------------------------+------------------------------+------------+---------------+------------------+\n",
            "| Index |                            Text                            |            Source            |   Actual   |   Predicted   |      Status      |\n",
            "+-----+------------------------------------------------------------+------------------------------+------------+---------------+------------------+\n",
            "|   0   |      Vaksin baru menyebabkan gangguan ginjal permanen      | Mafindo (turnbackhoax.id), 2 |   Hoaks    |     Hoaks     |     Correct      |\n",
            "|   1   |       Obat tradisional sembuhkan kanker dalam 3 hari       | Mafindo (turnbackhoax.id), 2 |   Hoaks    |     Hoaks     |     Correct      |\n",
            "|   2   |       Obat herbal baru sembuhkan stroke dalam 24 jam       |        Kominfo, 2025         |   Hoaks    |     Hoaks     |     Correct      |\n",
            "|   3   |   Studi temukan manfaat olahraga untuk kesehatan tulang    |         Detik, 2023          |    Asli    |     Asli      |     Correct      |\n",
            "|   4   |        Presiden umumkan lockdown total mulai besok         |        Kominfo, 2025         |   Hoaks    |     Asli      |    Incorrect     |\n",
            "|   5   | Pemerintah umumkan vaksin baru menyebabkan kematian massal | Mafindo (turnbackhoax.id), 2 |   Hoaks    |     Hoaks     |     Correct      |\n",
            "|   6   | Studi global tunjukkan meditasi kurangi stres dan depresi  |     CNN Indonesia, 2022      |    Asli    |     Asli      |     Correct      |\n",
            "|   7   |   Studi temukan manfaat ikan salmon untuk kesehatan otak   |         Kompas, 2023         |    Asli    |     Asli      |     Correct      |\n",
            "|   8   |   Penelitian temukan manfaat teh herbal untuk relaksasi    |     CNN Indonesia, 2023      |    Asli    |     Asli      |     Correct      |\n",
            "|   9   |   Penelitian temukan manfaat kacang almond untuk jantung   |         Detik, 2023          |    Asli    |     Asli      |     Correct      |\n",
            "|  10   |        Gunung Merapi akan meletus besar minggu ini         | Mafindo (turnbackhoax.id), 2 |   Hoaks    |     Hoaks     |     Correct      |\n",
            "|  11   |        Konsumsi kunyit sembuhkan penyakit autoimun         | Mafindo (turnbackhoax.id), 2 |   Hoaks    |     Hoaks     |     Correct      |\n",
            "|  12   | Studi temukan hubungan antara pola makan dan umur panjang  |         Kompas, 2023         |    Asli    |     Asli      |     Correct      |\n",
            "|  13   |   Program gizi sekolah tingkatkan prestasi akademik anak   |         Kompas, 2024         |    Asli    |     Asli      |     Correct      |\n",
            "|  14   |        Minyak kelapa murni bisa cegah virus corona         | Mafindo (turnbackhoax.id), 2 |   Hoaks    |     Hoaks     |     Correct      |\n",
            "+-----+------------------------------------------------------------+------------------------------+------------+---------------+------------------+\n",
            "\n",
            "=== Berita yang Diklasifikasikan sebagai Asli ===\n",
            "+-----+------------------------------------------------------------+------------------------------+------------+---------------+------------------+\n",
            "| Index |                            Text                            |            Source            |   Actual   |   Predicted   |      Status      |\n",
            "+-----+------------------------------------------------------------+------------------------------+------------+---------------+------------------+\n",
            "|   3   |   Studi temukan manfaat olahraga untuk kesehatan tulang    |         Detik, 2023          |    Asli    |     Asli      |     Correct      |\n",
            "|   4   |        Presiden umumkan lockdown total mulai besok         |        Kominfo, 2025         |   Hoaks    |     Asli      |    Incorrect     |\n",
            "|   6   | Studi global tunjukkan meditasi kurangi stres dan depresi  |     CNN Indonesia, 2022      |    Asli    |     Asli      |     Correct      |\n",
            "|   7   |   Studi temukan manfaat ikan salmon untuk kesehatan otak   |         Kompas, 2023         |    Asli    |     Asli      |     Correct      |\n",
            "|   8   |   Penelitian temukan manfaat teh herbal untuk relaksasi    |     CNN Indonesia, 2023      |    Asli    |     Asli      |     Correct      |\n",
            "|   9   |   Penelitian temukan manfaat kacang almond untuk jantung   |         Detik, 2023          |    Asli    |     Asli      |     Correct      |\n",
            "|  12   | Studi temukan hubungan antara pola makan dan umur panjang  |         Kompas, 2023         |    Asli    |     Asli      |     Correct      |\n",
            "|  13   |   Program gizi sekolah tingkatkan prestasi akademik anak   |         Kompas, 2024         |    Asli    |     Asli      |     Correct      |\n",
            "+-----+------------------------------------------------------------+------------------------------+------------+---------------+------------------+\n",
            "\n",
            "=== Berita yang Diklasifikasikan sebagai Hoaks ===\n",
            "+-----+------------------------------------------------------------+------------------------------+------------+---------------+------------------+\n",
            "| Index |                            Text                            |            Source            |   Actual   |   Predicted   |      Status      |\n",
            "+-----+------------------------------------------------------------+------------------------------+------------+---------------+------------------+\n",
            "|   0   |      Vaksin baru menyebabkan gangguan ginjal permanen      | Mafindo (turnbackhoax.id), 2 |   Hoaks    |     Hoaks     |     Correct      |\n",
            "|   1   |       Obat tradisional sembuhkan kanker dalam 3 hari       | Mafindo (turnbackhoax.id), 2 |   Hoaks    |     Hoaks     |     Correct      |\n",
            "|   2   |       Obat herbal baru sembuhkan stroke dalam 24 jam       |        Kominfo, 2025         |   Hoaks    |     Hoaks     |     Correct      |\n",
            "|   5   | Pemerintah umumkan vaksin baru menyebabkan kematian massal | Mafindo (turnbackhoax.id), 2 |   Hoaks    |     Hoaks     |     Correct      |\n",
            "|  10   |        Gunung Merapi akan meletus besar minggu ini         | Mafindo (turnbackhoax.id), 2 |   Hoaks    |     Hoaks     |     Correct      |\n",
            "|  11   |        Konsumsi kunyit sembuhkan penyakit autoimun         | Mafindo (turnbackhoax.id), 2 |   Hoaks    |     Hoaks     |     Correct      |\n",
            "|  14   |        Minyak kelapa murni bisa cegah virus corona         | Mafindo (turnbackhoax.id), 2 |   Hoaks    |     Hoaks     |     Correct      |\n",
            "+-----+------------------------------------------------------------+------------------------------+------------+---------------+------------------+\n"
          ]
        }
      ]
    }
  ]
}